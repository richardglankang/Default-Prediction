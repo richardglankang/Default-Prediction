{
 "cells": [
  {
   "cell_type": "code",
   "execution_count": 87,
   "metadata": {},
   "outputs": [],
   "source": [
    "import pandas as pd\n",
    "import numpy as np\n",
    "import sklearn.metrics as metrics\n",
    "#Import scikit-learn metrics module for accuracy calculation\n",
    "from sklearn.metrics import classification_report, confusion_matrix,roc_auc_score, plot_confusion_matrix\n",
    "# Import Decision Tree Classifier, PCA decomposition\n",
    "from sklearn import tree,decomposition\n",
    "from sklearn.tree import DecisionTreeClassifier, export_graphviz\n",
    "# Import train_test_split function,GridSearchCV to find the optimal parameters\n",
    "from sklearn.model_selection import train_test_split,GridSearchCV,StratifiedKFold\n",
    "# Import Support Vector Machine Classifier\n",
    "from sklearn.svm import SVC \n",
    "#Import encoder for categorical variable use\n",
    "from sklearn.preprocessing import LabelEncoder\n",
    "#Import K-Nearest Neighbor Classifier\n",
    "from sklearn.neighbors import KNeighborsClassifier\n",
    "from matplotlib import pyplot as plt\n",
    "from catboost import CatBoostClassifier,Pool\n",
    "import seaborn as sns\n",
    "import catboost as cb"
   ]
  },
  {
   "cell_type": "code",
   "execution_count": 2,
   "metadata": {},
   "outputs": [],
   "source": [
    "loan_train = pd.read_csv(\"~/Desktop/Fuqua MQM/MQM FALL1/Data Science for Business/Project/newLoan.csv\")"
   ]
  },
  {
   "cell_type": "code",
   "execution_count": 3,
   "metadata": {},
   "outputs": [],
   "source": [
    "loan_test = pd.read_csv(\"~/Desktop/Fuqua MQM/MQM FALL1/Data Science for Business/Project/newLoan_test.csv\")"
   ]
  },
  {
   "cell_type": "code",
   "execution_count": 4,
   "metadata": {},
   "outputs": [
    {
     "data": {
      "text/html": [
       "<div>\n",
       "<style scoped>\n",
       "    .dataframe tbody tr th:only-of-type {\n",
       "        vertical-align: middle;\n",
       "    }\n",
       "\n",
       "    .dataframe tbody tr th {\n",
       "        vertical-align: top;\n",
       "    }\n",
       "\n",
       "    .dataframe thead th {\n",
       "        text-align: right;\n",
       "    }\n",
       "</style>\n",
       "<table border=\"1\" class=\"dataframe\">\n",
       "  <thead>\n",
       "    <tr style=\"text-align: right;\">\n",
       "      <th></th>\n",
       "      <th>Income</th>\n",
       "      <th>Age</th>\n",
       "      <th>Experience</th>\n",
       "      <th>Married.Single</th>\n",
       "      <th>Car_Ownership</th>\n",
       "      <th>Profession</th>\n",
       "      <th>CITY</th>\n",
       "      <th>STATE</th>\n",
       "      <th>CURRENT_JOB_YRS</th>\n",
       "      <th>CURRENT_HOUSE_YRS</th>\n",
       "      <th>Risk_Flag</th>\n",
       "      <th>House_Ownership_owned</th>\n",
       "      <th>House_Ownership_rented</th>\n",
       "    </tr>\n",
       "  </thead>\n",
       "  <tbody>\n",
       "    <tr>\n",
       "      <th>0</th>\n",
       "      <td>5468664</td>\n",
       "      <td>30</td>\n",
       "      <td>2</td>\n",
       "      <td>0</td>\n",
       "      <td>0</td>\n",
       "      <td>Chartered_Accountant</td>\n",
       "      <td>Kanpur</td>\n",
       "      <td>Uttar_Pradesh</td>\n",
       "      <td>2</td>\n",
       "      <td>14</td>\n",
       "      <td>0</td>\n",
       "      <td>0</td>\n",
       "      <td>1</td>\n",
       "    </tr>\n",
       "    <tr>\n",
       "      <th>1</th>\n",
       "      <td>362970</td>\n",
       "      <td>50</td>\n",
       "      <td>8</td>\n",
       "      <td>1</td>\n",
       "      <td>0</td>\n",
       "      <td>Economist</td>\n",
       "      <td>Rewa</td>\n",
       "      <td>Madhya_Pradesh</td>\n",
       "      <td>7</td>\n",
       "      <td>11</td>\n",
       "      <td>0</td>\n",
       "      <td>0</td>\n",
       "      <td>1</td>\n",
       "    </tr>\n",
       "    <tr>\n",
       "      <th>2</th>\n",
       "      <td>3324933</td>\n",
       "      <td>38</td>\n",
       "      <td>0</td>\n",
       "      <td>0</td>\n",
       "      <td>1</td>\n",
       "      <td>Technical_writer</td>\n",
       "      <td>Panchkula</td>\n",
       "      <td>Haryana</td>\n",
       "      <td>0</td>\n",
       "      <td>11</td>\n",
       "      <td>0</td>\n",
       "      <td>0</td>\n",
       "      <td>1</td>\n",
       "    </tr>\n",
       "    <tr>\n",
       "      <th>3</th>\n",
       "      <td>1658354</td>\n",
       "      <td>76</td>\n",
       "      <td>15</td>\n",
       "      <td>0</td>\n",
       "      <td>0</td>\n",
       "      <td>Hotel_Manager</td>\n",
       "      <td>Tiruvottiyur</td>\n",
       "      <td>Tamil_Nadu</td>\n",
       "      <td>14</td>\n",
       "      <td>12</td>\n",
       "      <td>0</td>\n",
       "      <td>0</td>\n",
       "      <td>1</td>\n",
       "    </tr>\n",
       "    <tr>\n",
       "      <th>4</th>\n",
       "      <td>3625120</td>\n",
       "      <td>78</td>\n",
       "      <td>2</td>\n",
       "      <td>0</td>\n",
       "      <td>0</td>\n",
       "      <td>Police_officer</td>\n",
       "      <td>Rajahmundry[19][20]</td>\n",
       "      <td>Andhra_Pradesh</td>\n",
       "      <td>2</td>\n",
       "      <td>14</td>\n",
       "      <td>0</td>\n",
       "      <td>0</td>\n",
       "      <td>0</td>\n",
       "    </tr>\n",
       "  </tbody>\n",
       "</table>\n",
       "</div>"
      ],
      "text/plain": [
       "    Income  Age  Experience  Married.Single  Car_Ownership  \\\n",
       "0  5468664   30           2               0              0   \n",
       "1   362970   50           8               1              0   \n",
       "2  3324933   38           0               0              1   \n",
       "3  1658354   76          15               0              0   \n",
       "4  3625120   78           2               0              0   \n",
       "\n",
       "             Profession                 CITY           STATE  CURRENT_JOB_YRS  \\\n",
       "0  Chartered_Accountant               Kanpur   Uttar_Pradesh                2   \n",
       "1             Economist                 Rewa  Madhya_Pradesh                7   \n",
       "2      Technical_writer            Panchkula         Haryana                0   \n",
       "3         Hotel_Manager         Tiruvottiyur      Tamil_Nadu               14   \n",
       "4        Police_officer  Rajahmundry[19][20]  Andhra_Pradesh                2   \n",
       "\n",
       "   CURRENT_HOUSE_YRS  Risk_Flag  House_Ownership_owned  House_Ownership_rented  \n",
       "0                 14          0                      0                       1  \n",
       "1                 11          0                      0                       1  \n",
       "2                 11          0                      0                       1  \n",
       "3                 12          0                      0                       1  \n",
       "4                 14          0                      0                       0  "
      ]
     },
     "execution_count": 4,
     "metadata": {},
     "output_type": "execute_result"
    }
   ],
   "source": [
    "loan_train.head()"
   ]
  },
  {
   "cell_type": "code",
   "execution_count": 5,
   "metadata": {},
   "outputs": [
    {
     "data": {
      "text/html": [
       "<div>\n",
       "<style scoped>\n",
       "    .dataframe tbody tr th:only-of-type {\n",
       "        vertical-align: middle;\n",
       "    }\n",
       "\n",
       "    .dataframe tbody tr th {\n",
       "        vertical-align: top;\n",
       "    }\n",
       "\n",
       "    .dataframe thead th {\n",
       "        text-align: right;\n",
       "    }\n",
       "</style>\n",
       "<table border=\"1\" class=\"dataframe\">\n",
       "  <thead>\n",
       "    <tr style=\"text-align: right;\">\n",
       "      <th></th>\n",
       "      <th>Income</th>\n",
       "      <th>Age</th>\n",
       "      <th>Experience</th>\n",
       "      <th>Married.Single</th>\n",
       "      <th>Car_Ownership</th>\n",
       "      <th>House_Ownership_norent_noown</th>\n",
       "      <th>House_Ownership_owned</th>\n",
       "      <th>House_Ownership_rented</th>\n",
       "      <th>Profession</th>\n",
       "      <th>CITY</th>\n",
       "      <th>STATE</th>\n",
       "      <th>CURRENT_JOB_YRS</th>\n",
       "      <th>CURRENT_HOUSE_YRS</th>\n",
       "    </tr>\n",
       "  </thead>\n",
       "  <tbody>\n",
       "    <tr>\n",
       "      <th>0</th>\n",
       "      <td>7393090</td>\n",
       "      <td>59</td>\n",
       "      <td>19</td>\n",
       "      <td>0</td>\n",
       "      <td>0</td>\n",
       "      <td>0</td>\n",
       "      <td>0</td>\n",
       "      <td>1</td>\n",
       "      <td>Geologist</td>\n",
       "      <td>Malda</td>\n",
       "      <td>West Bengal</td>\n",
       "      <td>4</td>\n",
       "      <td>13</td>\n",
       "    </tr>\n",
       "    <tr>\n",
       "      <th>1</th>\n",
       "      <td>1215004</td>\n",
       "      <td>25</td>\n",
       "      <td>5</td>\n",
       "      <td>0</td>\n",
       "      <td>0</td>\n",
       "      <td>0</td>\n",
       "      <td>0</td>\n",
       "      <td>1</td>\n",
       "      <td>Firefighter</td>\n",
       "      <td>Jalna</td>\n",
       "      <td>Maharashtra</td>\n",
       "      <td>5</td>\n",
       "      <td>10</td>\n",
       "    </tr>\n",
       "    <tr>\n",
       "      <th>2</th>\n",
       "      <td>8901342</td>\n",
       "      <td>50</td>\n",
       "      <td>12</td>\n",
       "      <td>0</td>\n",
       "      <td>0</td>\n",
       "      <td>0</td>\n",
       "      <td>0</td>\n",
       "      <td>1</td>\n",
       "      <td>Lawyer</td>\n",
       "      <td>Thane</td>\n",
       "      <td>Maharashtra</td>\n",
       "      <td>9</td>\n",
       "      <td>14</td>\n",
       "    </tr>\n",
       "    <tr>\n",
       "      <th>3</th>\n",
       "      <td>1944421</td>\n",
       "      <td>49</td>\n",
       "      <td>9</td>\n",
       "      <td>1</td>\n",
       "      <td>1</td>\n",
       "      <td>0</td>\n",
       "      <td>0</td>\n",
       "      <td>1</td>\n",
       "      <td>Analyst</td>\n",
       "      <td>Latur</td>\n",
       "      <td>Maharashtra</td>\n",
       "      <td>3</td>\n",
       "      <td>12</td>\n",
       "    </tr>\n",
       "    <tr>\n",
       "      <th>4</th>\n",
       "      <td>13429</td>\n",
       "      <td>25</td>\n",
       "      <td>18</td>\n",
       "      <td>0</td>\n",
       "      <td>1</td>\n",
       "      <td>0</td>\n",
       "      <td>0</td>\n",
       "      <td>1</td>\n",
       "      <td>Comedian</td>\n",
       "      <td>Berhampore</td>\n",
       "      <td>West Bengal</td>\n",
       "      <td>13</td>\n",
       "      <td>11</td>\n",
       "    </tr>\n",
       "  </tbody>\n",
       "</table>\n",
       "</div>"
      ],
      "text/plain": [
       "    Income  Age  Experience  Married.Single  Car_Ownership  \\\n",
       "0  7393090   59          19               0              0   \n",
       "1  1215004   25           5               0              0   \n",
       "2  8901342   50          12               0              0   \n",
       "3  1944421   49           9               1              1   \n",
       "4    13429   25          18               0              1   \n",
       "\n",
       "   House_Ownership_norent_noown  House_Ownership_owned  \\\n",
       "0                             0                      0   \n",
       "1                             0                      0   \n",
       "2                             0                      0   \n",
       "3                             0                      0   \n",
       "4                             0                      0   \n",
       "\n",
       "   House_Ownership_rented   Profession        CITY        STATE  \\\n",
       "0                       1    Geologist       Malda  West Bengal   \n",
       "1                       1  Firefighter       Jalna  Maharashtra   \n",
       "2                       1       Lawyer       Thane  Maharashtra   \n",
       "3                       1      Analyst       Latur  Maharashtra   \n",
       "4                       1     Comedian  Berhampore  West Bengal   \n",
       "\n",
       "   CURRENT_JOB_YRS  CURRENT_HOUSE_YRS  \n",
       "0                4                 13  \n",
       "1                5                 10  \n",
       "2                9                 14  \n",
       "3                3                 12  \n",
       "4               13                 11  "
      ]
     },
     "execution_count": 5,
     "metadata": {},
     "output_type": "execute_result"
    }
   ],
   "source": [
    "loan_test.head()"
   ]
  },
  {
   "cell_type": "code",
   "execution_count": 6,
   "metadata": {},
   "outputs": [
    {
     "name": "stdout",
     "output_type": "stream",
     "text": [
      "<class 'pandas.core.frame.DataFrame'>\n",
      "RangeIndex: 50000 entries, 0 to 49999\n",
      "Data columns (total 13 columns):\n",
      " #   Column                  Non-Null Count  Dtype \n",
      "---  ------                  --------------  ----- \n",
      " 0   Income                  50000 non-null  int64 \n",
      " 1   Age                     50000 non-null  int64 \n",
      " 2   Experience              50000 non-null  int64 \n",
      " 3   Married.Single          50000 non-null  int64 \n",
      " 4   Car_Ownership           50000 non-null  int64 \n",
      " 5   Profession              50000 non-null  object\n",
      " 6   CITY                    50000 non-null  object\n",
      " 7   STATE                   50000 non-null  object\n",
      " 8   CURRENT_JOB_YRS         50000 non-null  int64 \n",
      " 9   CURRENT_HOUSE_YRS       50000 non-null  int64 \n",
      " 10  Risk_Flag               50000 non-null  int64 \n",
      " 11  House_Ownership_owned   50000 non-null  int64 \n",
      " 12  House_Ownership_rented  50000 non-null  int64 \n",
      "dtypes: int64(10), object(3)\n",
      "memory usage: 5.0+ MB\n"
     ]
    }
   ],
   "source": [
    "loan_train.info()"
   ]
  },
  {
   "cell_type": "code",
   "execution_count": 7,
   "metadata": {},
   "outputs": [
    {
     "name": "stdout",
     "output_type": "stream",
     "text": [
      "<class 'pandas.core.frame.DataFrame'>\n",
      "RangeIndex: 28000 entries, 0 to 27999\n",
      "Data columns (total 13 columns):\n",
      " #   Column                        Non-Null Count  Dtype \n",
      "---  ------                        --------------  ----- \n",
      " 0   Income                        28000 non-null  int64 \n",
      " 1   Age                           28000 non-null  int64 \n",
      " 2   Experience                    28000 non-null  int64 \n",
      " 3   Married.Single                28000 non-null  int64 \n",
      " 4   Car_Ownership                 28000 non-null  int64 \n",
      " 5   House_Ownership_norent_noown  28000 non-null  int64 \n",
      " 6   House_Ownership_owned         28000 non-null  int64 \n",
      " 7   House_Ownership_rented        28000 non-null  int64 \n",
      " 8   Profession                    28000 non-null  object\n",
      " 9   CITY                          28000 non-null  object\n",
      " 10  STATE                         28000 non-null  object\n",
      " 11  CURRENT_JOB_YRS               28000 non-null  int64 \n",
      " 12  CURRENT_HOUSE_YRS             28000 non-null  int64 \n",
      "dtypes: int64(10), object(3)\n",
      "memory usage: 2.8+ MB\n"
     ]
    }
   ],
   "source": [
    "loan_test.info()"
   ]
  },
  {
   "cell_type": "code",
   "execution_count": 8,
   "metadata": {},
   "outputs": [
    {
     "data": {
      "text/plain": [
       "Income                    24348\n",
       "Age                          59\n",
       "Experience                   21\n",
       "Married.Single                2\n",
       "Car_Ownership                 2\n",
       "Profession                   51\n",
       "CITY                        317\n",
       "STATE                        29\n",
       "CURRENT_JOB_YRS              15\n",
       "CURRENT_HOUSE_YRS             5\n",
       "Risk_Flag                     2\n",
       "House_Ownership_owned         2\n",
       "House_Ownership_rented        2\n",
       "dtype: int64"
      ]
     },
     "execution_count": 8,
     "metadata": {},
     "output_type": "execute_result"
    }
   ],
   "source": [
    "loan_train.nunique()"
   ]
  },
  {
   "cell_type": "code",
   "execution_count": 9,
   "metadata": {},
   "outputs": [
    {
     "data": {
      "text/plain": [
       "Income                          9916\n",
       "Age                               59\n",
       "Experience                        21\n",
       "Married.Single                     2\n",
       "Car_Ownership                      2\n",
       "House_Ownership_norent_noown       2\n",
       "House_Ownership_owned              2\n",
       "House_Ownership_rented             2\n",
       "Profession                        51\n",
       "CITY                             317\n",
       "STATE                             29\n",
       "CURRENT_JOB_YRS                   15\n",
       "CURRENT_HOUSE_YRS                  5\n",
       "dtype: int64"
      ]
     },
     "execution_count": 9,
     "metadata": {},
     "output_type": "execute_result"
    }
   ],
   "source": [
    "loan_test.nunique()"
   ]
  },
  {
   "cell_type": "code",
   "execution_count": 10,
   "metadata": {},
   "outputs": [],
   "source": [
    "### encode the categorical variables to dummies and numbers\n",
    "en = LabelEncoder()\n",
    "categorical_cols = [\"CITY\", \"STATE\",\"Profession\"]\n",
    "for i in categorical_cols:\n",
    "    loan_train[i] = en.fit_transform(loan_train[i])"
   ]
  },
  {
   "cell_type": "code",
   "execution_count": 11,
   "metadata": {},
   "outputs": [],
   "source": [
    "# Define train and target\n",
    "feature_cols= ['Income', \n",
    "               'Age',\n",
    "               'Experience', \n",
    "               'Married.Single',\n",
    "               'Car_Ownership',\n",
    "               'House_Ownership_owned',\n",
    "               'House_Ownership_rented',\n",
    "               'Profession', \n",
    "               'CITY',\n",
    "               'STATE',\n",
    "               'CURRENT_JOB_YRS',\n",
    "               'CURRENT_HOUSE_YRS']"
   ]
  },
  {
   "cell_type": "code",
   "execution_count": 12,
   "metadata": {},
   "outputs": [
    {
     "name": "stdout",
     "output_type": "stream",
     "text": [
      "['Air_traffic_controller' 'Analyst' 'Architect' 'Army_officer' 'Artist'\n",
      " 'Aviator' 'Biomedical_Engineer' 'Chartered_Accountant' 'Chef'\n",
      " 'Chemical_engineer' 'Civil_engineer' 'Civil_servant' 'Comedian'\n",
      " 'Computer_hardware_engineer' 'Computer_operator' 'Consultant' 'Dentist'\n",
      " 'Design_Engineer' 'Designer' 'Drafter' 'Economist' 'Engineer'\n",
      " 'Fashion_Designer' 'Financial_Analyst' 'Firefighter' 'Flight_attendant'\n",
      " 'Geologist' 'Graphic_Designer' 'Hotel_Manager' 'Industrial_Engineer'\n",
      " 'Lawyer' 'Librarian']\n",
      "['Chartered_Accountant' 'Economist' 'Technical_writer' ... 'Physician'\n",
      " 'Biomedical_Engineer' 'Aviator']\n",
      "['Technical_writer', 'Scientist', 'Police_officer', 'Secretary', 'Mechanical_engineer', 'Technology_specialist', 'Statistician', 'Surveyor', 'Technician', 'Software_Developer', 'Petroleum_Engineer', 'Official', 'Microbiologist', 'Surgeon', 'Magistrate', 'Psychologist', 'Politician', 'Physician', 'Web_designer']\n"
     ]
    }
   ],
   "source": [
    "prof_32 = en.inverse_transform([i for i in range(0,32)])\n",
    "\n",
    "print(prof_32)\n",
    "\n",
    "\n",
    "original_prof = en.inverse_transform(loan_train['Profession'])\n",
    "print(original_prof)\n",
    "diff = list(set(original_prof) - set(prof_32))\n",
    "\n",
    "print(diff)"
   ]
  },
  {
   "cell_type": "code",
   "execution_count": 60,
   "metadata": {},
   "outputs": [
    {
     "data": {
      "text/html": [
       "<div>\n",
       "<style scoped>\n",
       "    .dataframe tbody tr th:only-of-type {\n",
       "        vertical-align: middle;\n",
       "    }\n",
       "\n",
       "    .dataframe tbody tr th {\n",
       "        vertical-align: top;\n",
       "    }\n",
       "\n",
       "    .dataframe thead th {\n",
       "        text-align: right;\n",
       "    }\n",
       "</style>\n",
       "<table border=\"1\" class=\"dataframe\">\n",
       "  <thead>\n",
       "    <tr style=\"text-align: right;\">\n",
       "      <th></th>\n",
       "      <th>Income</th>\n",
       "      <th>Age</th>\n",
       "      <th>Experience</th>\n",
       "      <th>Married.Single</th>\n",
       "      <th>Car_Ownership</th>\n",
       "      <th>Profession</th>\n",
       "      <th>CITY</th>\n",
       "      <th>STATE</th>\n",
       "      <th>CURRENT_JOB_YRS</th>\n",
       "      <th>CURRENT_HOUSE_YRS</th>\n",
       "      <th>Risk_Flag</th>\n",
       "      <th>House_Ownership_owned</th>\n",
       "      <th>House_Ownership_rented</th>\n",
       "    </tr>\n",
       "  </thead>\n",
       "  <tbody>\n",
       "    <tr>\n",
       "      <th>0</th>\n",
       "      <td>5468664</td>\n",
       "      <td>30</td>\n",
       "      <td>2</td>\n",
       "      <td>0</td>\n",
       "      <td>0</td>\n",
       "      <td>7</td>\n",
       "      <td>146</td>\n",
       "      <td>25</td>\n",
       "      <td>2</td>\n",
       "      <td>14</td>\n",
       "      <td>0</td>\n",
       "      <td>0</td>\n",
       "      <td>1</td>\n",
       "    </tr>\n",
       "    <tr>\n",
       "      <th>1</th>\n",
       "      <td>362970</td>\n",
       "      <td>50</td>\n",
       "      <td>8</td>\n",
       "      <td>1</td>\n",
       "      <td>0</td>\n",
       "      <td>20</td>\n",
       "      <td>251</td>\n",
       "      <td>13</td>\n",
       "      <td>7</td>\n",
       "      <td>11</td>\n",
       "      <td>0</td>\n",
       "      <td>0</td>\n",
       "      <td>1</td>\n",
       "    </tr>\n",
       "    <tr>\n",
       "      <th>2</th>\n",
       "      <td>3324933</td>\n",
       "      <td>38</td>\n",
       "      <td>0</td>\n",
       "      <td>0</td>\n",
       "      <td>1</td>\n",
       "      <td>47</td>\n",
       "      <td>223</td>\n",
       "      <td>7</td>\n",
       "      <td>0</td>\n",
       "      <td>11</td>\n",
       "      <td>0</td>\n",
       "      <td>0</td>\n",
       "      <td>1</td>\n",
       "    </tr>\n",
       "    <tr>\n",
       "      <th>3</th>\n",
       "      <td>1658354</td>\n",
       "      <td>76</td>\n",
       "      <td>15</td>\n",
       "      <td>0</td>\n",
       "      <td>0</td>\n",
       "      <td>28</td>\n",
       "      <td>300</td>\n",
       "      <td>22</td>\n",
       "      <td>14</td>\n",
       "      <td>12</td>\n",
       "      <td>0</td>\n",
       "      <td>0</td>\n",
       "      <td>1</td>\n",
       "    </tr>\n",
       "    <tr>\n",
       "      <th>4</th>\n",
       "      <td>3625120</td>\n",
       "      <td>78</td>\n",
       "      <td>2</td>\n",
       "      <td>0</td>\n",
       "      <td>0</td>\n",
       "      <td>38</td>\n",
       "      <td>242</td>\n",
       "      <td>0</td>\n",
       "      <td>2</td>\n",
       "      <td>14</td>\n",
       "      <td>0</td>\n",
       "      <td>0</td>\n",
       "      <td>0</td>\n",
       "    </tr>\n",
       "  </tbody>\n",
       "</table>\n",
       "</div>"
      ],
      "text/plain": [
       "    Income  Age  Experience  Married.Single  Car_Ownership  Profession  CITY  \\\n",
       "0  5468664   30           2               0              0           7   146   \n",
       "1   362970   50           8               1              0          20   251   \n",
       "2  3324933   38           0               0              1          47   223   \n",
       "3  1658354   76          15               0              0          28   300   \n",
       "4  3625120   78           2               0              0          38   242   \n",
       "\n",
       "   STATE  CURRENT_JOB_YRS  CURRENT_HOUSE_YRS  Risk_Flag  \\\n",
       "0     25                2                 14          0   \n",
       "1     13                7                 11          0   \n",
       "2      7                0                 11          0   \n",
       "3     22               14                 12          0   \n",
       "4      0                2                 14          0   \n",
       "\n",
       "   House_Ownership_owned  House_Ownership_rented  \n",
       "0                      0                       1  \n",
       "1                      0                       1  \n",
       "2                      0                       1  \n",
       "3                      0                       1  \n",
       "4                      0                       0  "
      ]
     },
     "execution_count": 60,
     "metadata": {},
     "output_type": "execute_result"
    }
   ],
   "source": [
    "loan_train.head()"
   ]
  },
  {
   "cell_type": "code",
   "execution_count": 61,
   "metadata": {},
   "outputs": [],
   "source": [
    "#split dataset in features and target variable\n",
    "X = loan_train[feature_cols] # Features\n",
    "y = loan_train['Risk_Flag']  # Target variable"
   ]
  },
  {
   "cell_type": "code",
   "execution_count": 62,
   "metadata": {},
   "outputs": [],
   "source": [
    "# Split dataset into training set and test set\n",
    "X_train, X_test, y_train, y_test = train_test_split(X, y, test_size=0.2, random_state=1) \n",
    "# 80% training and 20% test"
   ]
  },
  {
   "cell_type": "markdown",
   "metadata": {},
   "source": [
    "# 1. Decision Tree"
   ]
  },
  {
   "cell_type": "code",
   "execution_count": 63,
   "metadata": {},
   "outputs": [],
   "source": [
    "## define the parameters used in gridsearch cross validation\n",
    "dec = DecisionTreeClassifier()\n",
    "tree_parameters = {'criterion':['gini', 'entropy'],\n",
    "                   'max_depth':range(3,14)}"
   ]
  },
  {
   "cell_type": "code",
   "execution_count": 64,
   "metadata": {},
   "outputs": [],
   "source": [
    "## find CV for decision tree\n",
    "clf_dec = GridSearchCV(estimator = dec,\n",
    "                        param_grid = tree_parameters,\n",
    "                        scoring = 'accuracy')"
   ]
  },
  {
   "cell_type": "code",
   "execution_count": 65,
   "metadata": {},
   "outputs": [],
   "source": [
    "#fit the training data set\n",
    "clf_dec = clf_dec.fit(X_train, y_train)"
   ]
  },
  {
   "cell_type": "code",
   "execution_count": 66,
   "metadata": {},
   "outputs": [
    {
     "data": {
      "text/plain": [
       "{'criterion': 'gini', 'max_depth': 13}"
      ]
     },
     "execution_count": 66,
     "metadata": {},
     "output_type": "execute_result"
    }
   ],
   "source": [
    "### getting the best parameters\n",
    "clf_dec.best_params_"
   ]
  },
  {
   "cell_type": "code",
   "execution_count": 67,
   "metadata": {},
   "outputs": [
    {
     "name": "stdout",
     "output_type": "stream",
     "text": [
      "Out of Sample Accuracy: 0.6079\n",
      "DecisionTree: Area under the ROC curve = 0.6075610148828009\n"
     ]
    }
   ],
   "source": [
    "## print out the out of sample accuracy in test data\n",
    "pred_tree = clf_dec.predict(X_test)\n",
    "print(\"Out of Sample Accuracy:\",metrics.accuracy_score(y_test, pred_tree))\n",
    "tree_performance = roc_auc_score(y_test, pred_tree)\n",
    "## print out the area under roc curve\n",
    "print ('DecisionTree: Area under the ROC curve = {}'.format(tree_performance))"
   ]
  },
  {
   "cell_type": "code",
   "execution_count": 68,
   "metadata": {},
   "outputs": [
    {
     "name": "stdout",
     "output_type": "stream",
     "text": [
      "              precision    recall  f1-score   support\n",
      "\n",
      "           0       0.61      0.64      0.62      5055\n",
      "           1       0.61      0.58      0.59      4945\n",
      "\n",
      "    accuracy                           0.61     10000\n",
      "   macro avg       0.61      0.61      0.61     10000\n",
      "weighted avg       0.61      0.61      0.61     10000\n",
      "\n"
     ]
    }
   ],
   "source": [
    "print(classification_report(y_test, pred_tree))"
   ]
  },
  {
   "cell_type": "code",
   "execution_count": 69,
   "metadata": {},
   "outputs": [
    {
     "data": {
      "text/plain": [
       "<sklearn.metrics._plot.confusion_matrix.ConfusionMatrixDisplay at 0x7ffc3a9f5250>"
      ]
     },
     "execution_count": 69,
     "metadata": {},
     "output_type": "execute_result"
    },
    {
     "data": {
      "image/png": "[encoded data removed]",
      "text/plain": [
       "<Figure size 432x288 with 2 Axes>"
      ]
     },
     "metadata": {
      "needs_background": "light"
     },
     "output_type": "display_data"
    }
   ],
   "source": [
    "### plot confusion matrix\n",
    "plot_confusion_matrix(clf_dec,\n",
    "                      X_test,\n",
    "                      y_test,   \n",
    "                      display_labels=['Not default','Default'],\n",
    "                      normalize='true'                    \n",
    "                     )"
   ]
  },
  {
   "cell_type": "code",
   "execution_count": 70,
   "metadata": {},
   "outputs": [
    {
     "data": {
      "text/plain": [
       "<sklearn.metrics._plot.roc_curve.RocCurveDisplay at 0x7ffc38ed2550>"
      ]
     },
     "execution_count": 70,
     "metadata": {},
     "output_type": "execute_result"
    },
    {
     "data": {
      "image/png": "[encoded data removed]",
      "text/plain": [
       "<Figure size 432x288 with 1 Axes>"
      ]
     },
     "metadata": {
      "needs_background": "light"
     },
     "output_type": "display_data"
    }
   ],
   "source": [
    "#plot the roc curve\n",
    "metrics.plot_roc_curve(clf_dec, X_test, y_test) "
   ]
  },
  {
   "cell_type": "code",
   "execution_count": 83,
   "metadata": {},
   "outputs": [],
   "source": [
    "## visualize the decision tree\n",
    "dec_visual = DecisionTreeClassifier(criterion=\"gini\", max_depth=3)\n",
    "\n",
    "# Train Decision Tree Classifer\n",
    "dec_visual = dec_visual.fit(X_train, y_train)\n",
    "\n",
    "#Predict the response for test dataset\n",
    "dec_pred_visual = dec_visual.predict(X_test)\n"
   ]
  },
  {
   "cell_type": "code",
   "execution_count": 84,
   "metadata": {},
   "outputs": [],
   "source": [
    "from sklearn.externals.six import StringIO  \n",
    "from IPython.display import Image  \n",
    "from sklearn.tree import export_graphviz\n",
    "import pydotplus"
   ]
  },
  {
   "cell_type": "code",
   "execution_count": 85,
   "metadata": {},
   "outputs": [
    {
     "data": {
      "image/png": "[encoded data removed]",
      "text/plain": [
       "<IPython.core.display.Image object>"
      ]
     },
     "execution_count": 85,
     "metadata": {},
     "output_type": "execute_result"
    }
   ],
   "source": [
    "dot_data = StringIO()\n",
    "export_graphviz(dec_visual, out_file=dot_data,  \n",
    "                filled=True, rounded=True,\n",
    "                special_characters=True, feature_names = feature_cols,class_names=['0','1'])\n",
    "graph = pydotplus.graph_from_dot_data(dot_data.getvalue())  \n",
    "graph.write_png('decisiontree_3.png')\n",
    "Image(graph.create_png())\n",
    "\n",
    "## profession <=31.5 means \n",
    "## professions which are not in 'Politician', \n",
    "#'Surveyor', 'Surgeon', 'Official', 'Scientist', \n",
    "# 'Magistrate', 'Mechanical_engineer', 'Police_officer',\n",
    "#'Software_Developer', 'Statistician', 'Web_designer', \n",
    "#'Physician', 'Technical_writer', 'Secretary', 'Technology_specialist',\n",
    "#'Psychologist', 'Microbiologist', 'Technician', 'Petroleum_Engineer"
   ]
  },
  {
   "cell_type": "code",
   "execution_count": 89,
   "metadata": {},
   "outputs": [
    {
     "name": "stdout",
     "output_type": "stream",
     "text": [
      "0.6337826370626545\n",
      "0.5778365975669477\n",
      "0.5992560375285693\n",
      "0.5861843873972559\n",
      "0.5946864380351918\n",
      "Avg accuracy : 0.59602\n",
      "Avg AUC : 0.5983492195181238\n"
     ]
    }
   ],
   "source": [
    "# K-Fold Cross Validation for decision tree\n",
    "k = 5\n",
    "kf = StratifiedKFold(n_splits=k, random_state=None)\n",
    "\n",
    "model = DecisionTreeClassifier(criterion='gini', max_depth= 13)\n",
    "\n",
    "acc_score = []\n",
    "auc_score = []\n",
    " \n",
    "for train_index , test_index in kf.split(X,y):\n",
    "    \n",
    "    X_train , X_test = X.iloc[train_index,:],X.iloc[test_index,:]\n",
    "    y_train , y_test = y[train_index] , y[test_index]\n",
    "     \n",
    "    model.fit(X_train,y_train)\n",
    "    pred_values = model.predict(X_test)\n",
    "     \n",
    "    acc = metrics.accuracy_score(pred_values,y_test)\n",
    "    acc_score.append(acc)\n",
    "    \n",
    "    auc = roc_auc_score(pred_values , y_test)\n",
    "    print(auc)\n",
    "    auc_score.append(auc)\n",
    "     \n",
    "avg_acc_score = sum(acc_score)/k\n",
    "avg_auc_score = sum(auc_score)/k\n",
    " \n",
    "\n",
    "print('Avg accuracy : {}'.format(avg_acc_score))\n",
    "\n",
    "print('Avg AUC : {}'.format(avg_auc_score))"
   ]
  },
  {
   "cell_type": "markdown",
   "metadata": {},
   "source": [
    "# Decision Tree Classification\n",
    "### How it works:\n",
    "1. Select the best attribute using Attribute Selection Measures(ASM) to split the records.\n",
    "2. Make that attribute a decision node and breaks the dataset into smaller subsets.\n",
    "3. Starts tree building by repeating this process recursively for each child until one of the condition will match:\n",
    "      - All the tuples belong to the same attribute value.\n",
    "      - There are no more remaining attributes.\n",
    "      - There are no more instances.\n",
    "## PROS:\n",
    "- Easy to interpret and visualize and the chart mimics the human level thinking.\n",
    "- Easily capture Non-linear patterns.\n",
    "- No assumptions needed about distribution.\n",
    "## CONS:\n",
    "- Sensitive to noisy data. It can overfit noisy data.\n",
    "- The small variation(or variance) in data can result in the different decision tree.\n",
    "- Biased with imbalanced data sets. (Our data set is not balanced, so decision tree may not be a good model for us to use)"
   ]
  },
  {
   "cell_type": "markdown",
   "metadata": {},
   "source": [
    "# 2. K-NN Classifier"
   ]
  },
  {
   "cell_type": "code",
   "execution_count": 90,
   "metadata": {},
   "outputs": [],
   "source": [
    "### knn classifier\n",
    "knn = KNeighborsClassifier()\n",
    "## setting up parameters\n",
    "parameters={\n",
    "    'n_neighbors':[3,5,7,9,11,13],\n",
    "    'weights':['uniform','distance'],\n",
    "    'metric':['euclidean']\n",
    "}\n",
    "\n",
    "# defining parameter range\n",
    "grid_knn= GridSearchCV(\n",
    "    estimator = knn,\n",
    "    param_grid = parameters,\n",
    "    scoring = 'accuracy',\n",
    "    verbose=1,\n",
    "    cv=3 # 10 cross validation to find best parameters\n",
    "    )"
   ]
  },
  {
   "cell_type": "code",
   "execution_count": 91,
   "metadata": {},
   "outputs": [
    {
     "name": "stdout",
     "output_type": "stream",
     "text": [
      "Fitting 3 folds for each of 12 candidates, totalling 36 fits\n"
     ]
    },
    {
     "name": "stderr",
     "output_type": "stream",
     "text": [
      "[Parallel(n_jobs=1)]: Using backend SequentialBackend with 1 concurrent workers.\n",
      "[Parallel(n_jobs=1)]: Done  36 out of  36 | elapsed:    7.5s finished\n"
     ]
    }
   ],
   "source": [
    "grid_knn = grid_knn.fit(X_train,y_train)"
   ]
  },
  {
   "cell_type": "code",
   "execution_count": 92,
   "metadata": {},
   "outputs": [
    {
     "name": "stdout",
     "output_type": "stream",
     "text": [
      "KNeighborsClassifier(algorithm='auto', leaf_size=30, metric='euclidean',\n",
      "                     metric_params=None, n_jobs=None, n_neighbors=3, p=2,\n",
      "                     weights='distance')\n"
     ]
    }
   ],
   "source": [
    "##print out best k choice for neighbor = 3\n",
    "print(grid_knn.best_estimator_)"
   ]
  },
  {
   "cell_type": "code",
   "execution_count": 93,
   "metadata": {},
   "outputs": [],
   "source": [
    "### predict test data using knn model\n",
    "pred_knn = grid_knn.predict(X_test)"
   ]
  },
  {
   "cell_type": "code",
   "execution_count": 94,
   "metadata": {},
   "outputs": [
    {
     "name": "stdout",
     "output_type": "stream",
     "text": [
      "Out of Sample Accuracy: 0.8491\n",
      "K-NN: Area under the ROC curve = 0.8582295371711416\n"
     ]
    }
   ],
   "source": [
    "## print out the out of sample accuracy in test data\n",
    "print(\"Out of Sample Accuracy:\",metrics.accuracy_score(y_test, pred_knn))\n",
    "knn_performance = roc_auc_score(pred_knn,y_test)\n",
    "## print out the area under roc curve\n",
    "print ('K-NN: Area under the ROC curve = {}'.format(knn_performance))"
   ]
  },
  {
   "cell_type": "code",
   "execution_count": 95,
   "metadata": {},
   "outputs": [
    {
     "name": "stdout",
     "output_type": "stream",
     "text": [
      "              precision    recall  f1-score   support\n",
      "\n",
      "           0       0.92      0.77      0.84      4996\n",
      "           1       0.80      0.93      0.86      5004\n",
      "\n",
      "    accuracy                           0.85     10000\n",
      "   macro avg       0.86      0.85      0.85     10000\n",
      "weighted avg       0.86      0.85      0.85     10000\n",
      "\n"
     ]
    }
   ],
   "source": [
    "print(classification_report(y_test, pred_knn))"
   ]
  },
  {
   "cell_type": "code",
   "execution_count": 96,
   "metadata": {},
   "outputs": [
    {
     "data": {
      "text/plain": [
       "<sklearn.metrics._plot.confusion_matrix.ConfusionMatrixDisplay at 0x7ffc1f370710>"
      ]
     },
     "execution_count": 96,
     "metadata": {},
     "output_type": "execute_result"
    },
    {
     "data": {
      "image/png": "[encoded data removed]",
      "text/plain": [
       "<Figure size 432x288 with 2 Axes>"
      ]
     },
     "metadata": {
      "needs_background": "light"
     },
     "output_type": "display_data"
    }
   ],
   "source": [
    "#plot the confusion matrix\n",
    "plot_confusion_matrix(grid_knn,\n",
    "                      X_test,\n",
    "                      y_test,   \n",
    "                      display_labels=['Not Default','Default'],\n",
    "                      normalize='true'\n",
    "                     )"
   ]
  },
  {
   "cell_type": "code",
   "execution_count": 97,
   "metadata": {},
   "outputs": [
    {
     "data": {
      "text/plain": [
       "<sklearn.metrics._plot.roc_curve.RocCurveDisplay at 0x7ffc1f35ded0>"
      ]
     },
     "execution_count": 97,
     "metadata": {},
     "output_type": "execute_result"
    },
    {
     "data": {
      "image/png": "[encoded data removed]",
      "text/plain": [
       "<Figure size 432x288 with 1 Axes>"
      ]
     },
     "metadata": {
      "needs_background": "light"
     },
     "output_type": "display_data"
    }
   ],
   "source": [
    "#plot the roc curve\n",
    "metrics.plot_roc_curve(grid_knn, X_test, y_test) "
   ]
  },
  {
   "cell_type": "code",
   "execution_count": 99,
   "metadata": {},
   "outputs": [
    {
     "name": "stdout",
     "output_type": "stream",
     "text": [
      "0.8624539732681119\n",
      "0.8594604906281526\n",
      "0.8611463986661613\n",
      "0.8599695200957587\n",
      "0.8582295371711416\n",
      "Avg accuracy : 0.85074\n",
      "Avg AUC : 0.8602519839658653\n"
     ]
    }
   ],
   "source": [
    "# K-Fold Cross Validation for decision tree\n",
    "k = 5\n",
    "kf = StratifiedKFold(n_splits=k, random_state=None)\n",
    "\n",
    "model = KNeighborsClassifier(algorithm='auto', leaf_size=30, metric='euclidean',\n",
    "                     metric_params=None, n_jobs=None, n_neighbors=3, p=2,\n",
    "                     weights='distance')\n",
    "\n",
    "acc_score = []\n",
    "auc_score = []\n",
    " \n",
    "for train_index , test_index in kf.split(X):\n",
    "    X_train , X_test = X.iloc[train_index,:],X.iloc[test_index,:]\n",
    "    y_train , y_test = y[train_index] , y[test_index]\n",
    "     \n",
    "    model = model.fit(X_train,y_train)\n",
    "    pred_values = model.predict(X_test)\n",
    "     \n",
    "    acc = metrics.accuracy_score(pred_values , y_test)\n",
    "    acc_score.append(acc)\n",
    "    \n",
    "    auc = roc_auc_score(pred_values , y_test)\n",
    "    auc_score.append(auc)\n",
    "    print(auc)\n",
    "avg_acc_score = sum(acc_score)/k\n",
    "avg_auc_score = sum(auc_score)/k\n",
    " \n",
    "#print('accuracy of each fold - {}'.format(acc_score))\n",
    "print('Avg accuracy : {}'.format(avg_acc_score))\n",
    "#print('AUC of each fold - {}'.format(auc_score))\n",
    "print('Avg AUC : {}'.format(avg_auc_score))"
   ]
  },
  {
   "cell_type": "markdown",
   "metadata": {},
   "source": [
    "# Choose cat boost encoding data set \n",
    "1. OOS accuracy for cat boost encoding data set is 0.853\n",
    "2. OOS accuracy for normal encoding data set is 0.85\n",
    "3. We choose the one with higher OOS accuracy\n"
   ]
  },
  {
   "cell_type": "markdown",
   "metadata": {},
   "source": [
    "# K-NN Model\n",
    "- The number of neighbors(K) is the core deciding factor\n",
    "- But KNN performs better with a lower number of features than a large number of features\n",
    "- Output value for the object is computed by the average of k closest neighbors value.\n",
    "\n",
    "## PROS\n",
    "- can be useful in case of nonlinear data. \n",
    "- It can be used with the regression problem. \n",
    "- Simpler and faster than other classification methods during training process.\n",
    "## CONS\n",
    "- Takes a long time fitting data during testing process\n",
    "- Requires large memory for storing the entire training dataset for prediction\n",
    "- not suitable for large dimensional data(Since variable City has 317 different values, KNN will not be a good choice)\n",
    "\n",
    "Finally, we need to compare accuracy with the null model also."
   ]
  },
  {
   "cell_type": "markdown",
   "metadata": {},
   "source": [
    "# Catboost Model"
   ]
  },
  {
   "cell_type": "code",
   "execution_count": 100,
   "metadata": {},
   "outputs": [],
   "source": [
    "loan_train = pd.read_csv(\"~/Desktop/Fuqua MQM/MQM FALL1/Data Science for Business/Project/newLoan.csv\")"
   ]
  },
  {
   "cell_type": "code",
   "execution_count": 107,
   "metadata": {},
   "outputs": [],
   "source": [
    "y = loan_train[\"Risk_Flag\"]\n",
    "X = loan_train.drop(\"Risk_Flag\",axis=1)"
   ]
  },
  {
   "cell_type": "code",
   "execution_count": 130,
   "metadata": {},
   "outputs": [
    {
     "name": "stdout",
     "output_type": "stream",
     "text": [
      "[5, 6, 7]\n"
     ]
    }
   ],
   "source": [
    "categorical = [i for i in range(5,8)]\n",
    "print(categorical)"
   ]
  },
  {
   "cell_type": "code",
   "execution_count": 131,
   "metadata": {},
   "outputs": [],
   "source": [
    "X_train, X_val, y_train, y_val = train_test_split(X, y, test_size=0.2, random_state=0)"
   ]
  },
  {
   "cell_type": "code",
   "execution_count": 132,
   "metadata": {},
   "outputs": [
    {
     "data": {
      "text/html": [
       "<div>\n",
       "<style scoped>\n",
       "    .dataframe tbody tr th:only-of-type {\n",
       "        vertical-align: middle;\n",
       "    }\n",
       "\n",
       "    .dataframe tbody tr th {\n",
       "        vertical-align: top;\n",
       "    }\n",
       "\n",
       "    .dataframe thead th {\n",
       "        text-align: right;\n",
       "    }\n",
       "</style>\n",
       "<table border=\"1\" class=\"dataframe\">\n",
       "  <thead>\n",
       "    <tr style=\"text-align: right;\">\n",
       "      <th></th>\n",
       "      <th>Income</th>\n",
       "      <th>Age</th>\n",
       "      <th>Experience</th>\n",
       "      <th>Married.Single</th>\n",
       "      <th>Car_Ownership</th>\n",
       "      <th>Profession</th>\n",
       "      <th>CITY</th>\n",
       "      <th>STATE</th>\n",
       "      <th>CURRENT_JOB_YRS</th>\n",
       "      <th>CURRENT_HOUSE_YRS</th>\n",
       "      <th>House_Ownership_owned</th>\n",
       "      <th>House_Ownership_rented</th>\n",
       "    </tr>\n",
       "  </thead>\n",
       "  <tbody>\n",
       "    <tr>\n",
       "      <th>20330</th>\n",
       "      <td>7957504</td>\n",
       "      <td>56</td>\n",
       "      <td>2</td>\n",
       "      <td>0</td>\n",
       "      <td>0</td>\n",
       "      <td>Petroleum_Engineer</td>\n",
       "      <td>Nagercoil</td>\n",
       "      <td>Tamil_Nadu</td>\n",
       "      <td>2</td>\n",
       "      <td>10</td>\n",
       "      <td>0</td>\n",
       "      <td>1</td>\n",
       "    </tr>\n",
       "    <tr>\n",
       "      <th>17532</th>\n",
       "      <td>4199825</td>\n",
       "      <td>53</td>\n",
       "      <td>19</td>\n",
       "      <td>0</td>\n",
       "      <td>0</td>\n",
       "      <td>Psychologist</td>\n",
       "      <td>Ulhasnagar</td>\n",
       "      <td>Maharashtra</td>\n",
       "      <td>8</td>\n",
       "      <td>13</td>\n",
       "      <td>0</td>\n",
       "      <td>1</td>\n",
       "    </tr>\n",
       "    <tr>\n",
       "      <th>45819</th>\n",
       "      <td>2765197</td>\n",
       "      <td>43</td>\n",
       "      <td>13</td>\n",
       "      <td>0</td>\n",
       "      <td>0</td>\n",
       "      <td>Fashion_Designer</td>\n",
       "      <td>Giridih</td>\n",
       "      <td>Jharkhand</td>\n",
       "      <td>5</td>\n",
       "      <td>12</td>\n",
       "      <td>0</td>\n",
       "      <td>1</td>\n",
       "    </tr>\n",
       "    <tr>\n",
       "      <th>34807</th>\n",
       "      <td>8361285</td>\n",
       "      <td>37</td>\n",
       "      <td>8</td>\n",
       "      <td>0</td>\n",
       "      <td>0</td>\n",
       "      <td>Engineer</td>\n",
       "      <td>Miryalaguda</td>\n",
       "      <td>Telangana</td>\n",
       "      <td>8</td>\n",
       "      <td>10</td>\n",
       "      <td>0</td>\n",
       "      <td>1</td>\n",
       "    </tr>\n",
       "    <tr>\n",
       "      <th>31888</th>\n",
       "      <td>8257045</td>\n",
       "      <td>68</td>\n",
       "      <td>5</td>\n",
       "      <td>0</td>\n",
       "      <td>0</td>\n",
       "      <td>Economist</td>\n",
       "      <td>Rampur</td>\n",
       "      <td>Uttar_Pradesh</td>\n",
       "      <td>5</td>\n",
       "      <td>10</td>\n",
       "      <td>0</td>\n",
       "      <td>1</td>\n",
       "    </tr>\n",
       "  </tbody>\n",
       "</table>\n",
       "</div>"
      ],
      "text/plain": [
       "        Income  Age  Experience  Married.Single  Car_Ownership  \\\n",
       "20330  7957504   56           2               0              0   \n",
       "17532  4199825   53          19               0              0   \n",
       "45819  2765197   43          13               0              0   \n",
       "34807  8361285   37           8               0              0   \n",
       "31888  8257045   68           5               0              0   \n",
       "\n",
       "               Profession         CITY          STATE  CURRENT_JOB_YRS  \\\n",
       "20330  Petroleum_Engineer    Nagercoil     Tamil_Nadu                2   \n",
       "17532        Psychologist   Ulhasnagar    Maharashtra                8   \n",
       "45819    Fashion_Designer      Giridih      Jharkhand                5   \n",
       "34807            Engineer  Miryalaguda      Telangana                8   \n",
       "31888           Economist       Rampur  Uttar_Pradesh                5   \n",
       "\n",
       "       CURRENT_HOUSE_YRS  House_Ownership_owned  House_Ownership_rented  \n",
       "20330                 10                      0                       1  \n",
       "17532                 13                      0                       1  \n",
       "45819                 12                      0                       1  \n",
       "34807                 10                      0                       1  \n",
       "31888                 10                      0                       1  "
      ]
     },
     "execution_count": 132,
     "metadata": {},
     "output_type": "execute_result"
    }
   ],
   "source": [
    "X_train.head()"
   ]
  },
  {
   "cell_type": "code",
   "execution_count": 133,
   "metadata": {},
   "outputs": [],
   "source": [
    "test_dataset = cb.Pool(X_val,y_val, cat_features=categorical)"
   ]
  },
  {
   "cell_type": "code",
   "execution_count": 134,
   "metadata": {},
   "outputs": [
    {
     "name": "stdout",
     "output_type": "stream",
     "text": [
      "CatBoost model is fitted: True\n",
      "CatBoost model parameters:\n",
      "{}\n"
     ]
    }
   ],
   "source": [
    "catboost_clf = CatBoostClassifier()\n",
    "\n",
    "\n",
    "catboost_clf = catboost_clf.fit(X_train, y_train, \n",
    "        cat_features=categorical, \n",
    "        eval_set=(X_val, y_val), \n",
    "        verbose=False\n",
    ")\n",
    "\n",
    "print('CatBoost model is fitted: ' + str(catboost_clf.is_fitted()))\n",
    "print('CatBoost model parameters:')\n",
    "print(catboost_clf.get_params())"
   ]
  },
  {
   "cell_type": "code",
   "execution_count": 135,
   "metadata": {},
   "outputs": [],
   "source": [
    "pred_catboost = catboost_clf.predict(data=X_val)"
   ]
  },
  {
   "cell_type": "code",
   "execution_count": 136,
   "metadata": {},
   "outputs": [
    {
     "name": "stdout",
     "output_type": "stream",
     "text": [
      "Out of Sample Accuracy: 0.9286\n",
      "DecisionTree: Area under the ROC curve = 0.9286020371440815\n"
     ]
    }
   ],
   "source": [
    "## print out the out of sample accuracy in test data\n",
    "print(\"Out of Sample Accuracy:\",metrics.accuracy_score(y_val, pred_catboost))\n",
    "cb_performance = roc_auc_score(y_val, pred_catboost)\n",
    "## print out the area under roc curve\n",
    "print ('DecisionTree: Area under the ROC curve = {}'.format(cb_performance))"
   ]
  },
  {
   "cell_type": "code",
   "execution_count": 137,
   "metadata": {},
   "outputs": [
    {
     "data": {
      "text/plain": [
       "<sklearn.metrics._plot.confusion_matrix.ConfusionMatrixDisplay at 0x7ffc2000b310>"
      ]
     },
     "execution_count": 137,
     "metadata": {},
     "output_type": "execute_result"
    },
    {
     "data": {
      "image/png": "[encoded data removed]",
      "text/plain": [
       "<Figure size 432x288 with 2 Axes>"
      ]
     },
     "metadata": {
      "needs_background": "light"
     },
     "output_type": "display_data"
    }
   ],
   "source": [
    "#plot the confusion matrix\n",
    "plot_confusion_matrix(catboost_clf,\n",
    "                      X_val,\n",
    "                      y_val,   \n",
    "                      display_labels=['not risk','risk'],\n",
    "                      normalize='true'\n",
    "                     )"
   ]
  },
  {
   "cell_type": "code",
   "execution_count": 138,
   "metadata": {},
   "outputs": [
    {
     "data": {
      "text/plain": [
       "<sklearn.metrics._plot.roc_curve.RocCurveDisplay at 0x7ffc1f9b3790>"
      ]
     },
     "execution_count": 138,
     "metadata": {},
     "output_type": "execute_result"
    },
    {
     "data": {
      "image/png": "[encoded data removed]",
      "text/plain": [
       "<Figure size 432x288 with 1 Axes>"
      ]
     },
     "metadata": {
      "needs_background": "light"
     },
     "output_type": "display_data"
    }
   ],
   "source": [
    "#plot the roc curve\n",
    "metrics.plot_roc_curve(catboost_clf, X_val, y_val) "
   ]
  },
  {
   "cell_type": "code",
   "execution_count": 139,
   "metadata": {},
   "outputs": [
    {
     "name": "stdout",
     "output_type": "stream",
     "text": [
      "              precision    recall  f1-score   support\n",
      "\n",
      "           0       0.92      0.94      0.93      4999\n",
      "           1       0.94      0.92      0.93      5001\n",
      "\n",
      "    accuracy                           0.93     10000\n",
      "   macro avg       0.93      0.93      0.93     10000\n",
      "weighted avg       0.93      0.93      0.93     10000\n",
      "\n"
     ]
    }
   ],
   "source": [
    "print(classification_report(y_val, pred_catboost))"
   ]
  },
  {
   "cell_type": "code",
   "execution_count": 140,
   "metadata": {},
   "outputs": [],
   "source": [
    "def plot_feature_importance(importance,names,model_type):\n",
    "    #Create arrays from feature importance and feature names\n",
    "    feature_importance = np.array(importance)\n",
    "    feature_names = np.array(names)\n",
    "\n",
    "    #Create a DataFrame using a Dictionary\n",
    "    data={'feature_names':feature_names,'feature_importance':feature_importance}\n",
    "    fi_df = pd.DataFrame(data)\n",
    "\n",
    "    #Sort the DataFrame in order decreasing feature importance\n",
    "    fi_df.sort_values(by=['feature_importance'], ascending=False,inplace=True)\n",
    "\n",
    "    #Define size of bar plot\n",
    "    plt.figure(figsize=(10,8))\n",
    "    #Plot Searborn bar chart\n",
    "    sns.barplot(x=fi_df['feature_importance'], y=fi_df['feature_names'])\n",
    "    #Add chart labels\n",
    "    plt.title(model_type + ' FEATURE IMPORTANCE')\n",
    "    plt.xlabel('FEATURE IMPORTANCE')\n",
    "    plt.ylabel('FEATURE NAMES')\n",
    "  "
   ]
  },
  {
   "cell_type": "code",
   "execution_count": 141,
   "metadata": {},
   "outputs": [
    {
     "data": {
      "image/png": "[encoded data removed]",
      "text/plain": [
       "<Figure size 720x576 with 1 Axes>"
      ]
     },
     "metadata": {
      "needs_background": "light"
     },
     "output_type": "display_data"
    }
   ],
   "source": [
    "plot_feature_importance(catboost_clf.get_feature_importance(),X_train.columns,'CATBOOST')"
   ]
  },
  {
   "cell_type": "code",
   "execution_count": 142,
   "metadata": {},
   "outputs": [
    {
     "data": {
      "image/svg+xml": [
       "<?xml version=\"1.0\" encoding=\"UTF-8\" standalone=\"no\"?>\n",
       "<!DOCTYPE svg PUBLIC \"-//W3C//DTD SVG 1.1//EN\"\n",
       " \"http://www.w3.org/Graphics/SVG/1.1/DTD/svg11.dtd\">\n",
       "<!-- Generated by graphviz version 2.49.1 (20210923.0004)\n",
       " -->\n",
       "<!-- Pages: 1 -->\n",
       "<svg width=\"626pt\" height=\"218pt\"\n",
       " viewBox=\"0.00 0.00 626.27 218.00\" xmlns=\"http://www.w3.org/2000/svg\" xmlns:xlink=\"http://www.w3.org/1999/xlink\">\n",
       "<g id=\"graph0\" class=\"graph\" transform=\"scale(1 1) rotate(0) translate(4 214)\">\n",
       "<polygon fill=\"white\" stroke=\"transparent\" points=\"-4,4 -4,-214 622.27,-214 622.27,4 -4,4\"/>\n",
       "<!-- 0 -->\n",
       "<g id=\"node1\" class=\"node\">\n",
       "<title>0</title>\n",
       "<ellipse fill=\"none\" stroke=\"black\" cx=\"308.14\" cy=\"-192\" rx=\"71.49\" ry=\"18\"/>\n",
       "<text text-anchor=\"middle\" x=\"308.14\" y=\"-188.3\" font-family=\"Times,serif\" font-size=\"14.00\">Age, value&gt;36.5</text>\n",
       "</g>\n",
       "<!-- 1 -->\n",
       "<g id=\"node2\" class=\"node\">\n",
       "<title>1</title>\n",
       "<ellipse fill=\"none\" stroke=\"black\" cx=\"150.14\" cy=\"-105\" rx=\"150.27\" ry=\"18\"/>\n",
       "<text text-anchor=\"middle\" x=\"150.14\" y=\"-101.3\" font-family=\"Times,serif\" font-size=\"14.00\">{CITY} pr_num0 tb0 type4, value&gt;11</text>\n",
       "</g>\n",
       "<!-- 0&#45;&gt;1 -->\n",
       "<g id=\"edge1\" class=\"edge\">\n",
       "<title>0&#45;&gt;1</title>\n",
       "<path fill=\"none\" stroke=\"black\" d=\"M279.16,-175.41C254.18,-161.98 217.88,-142.45 190.14,-127.52\"/>\n",
       "<polygon fill=\"black\" stroke=\"black\" points=\"191.56,-124.31 181.09,-122.65 188.24,-130.47 191.56,-124.31\"/>\n",
       "<text text-anchor=\"middle\" x=\"248.14\" y=\"-144.8\" font-family=\"Times,serif\" font-size=\"14.00\">No</text>\n",
       "</g>\n",
       "<!-- 2 -->\n",
       "<g id=\"node3\" class=\"node\">\n",
       "<title>2</title>\n",
       "<ellipse fill=\"none\" stroke=\"black\" cx=\"468.14\" cy=\"-105\" rx=\"150.27\" ry=\"18\"/>\n",
       "<text text-anchor=\"middle\" x=\"468.14\" y=\"-101.3\" font-family=\"Times,serif\" font-size=\"14.00\">{CITY} pr_num0 tb0 type4, value&gt;11</text>\n",
       "</g>\n",
       "<!-- 0&#45;&gt;2 -->\n",
       "<g id=\"edge2\" class=\"edge\">\n",
       "<title>0&#45;&gt;2</title>\n",
       "<path fill=\"none\" stroke=\"black\" d=\"M337.48,-175.41C362.77,-161.98 399.53,-142.45 427.62,-127.52\"/>\n",
       "<polygon fill=\"black\" stroke=\"black\" points=\"429.6,-130.44 436.79,-122.65 426.31,-124.25 429.6,-130.44\"/>\n",
       "<text text-anchor=\"middle\" x=\"408.64\" y=\"-144.8\" font-family=\"Times,serif\" font-size=\"14.00\">Yes</text>\n",
       "</g>\n",
       "<!-- 3 -->\n",
       "<g id=\"node4\" class=\"node\">\n",
       "<title>3</title>\n",
       "<polygon fill=\"none\" stroke=\"red\" points=\"142.64,-36 57.64,-36 57.64,0 142.64,0 142.64,-36\"/>\n",
       "<text text-anchor=\"middle\" x=\"100.14\" y=\"-14.3\" font-family=\"Times,serif\" font-size=\"14.00\">val = &#45;0.026</text>\n",
       "</g>\n",
       "<!-- 1&#45;&gt;3 -->\n",
       "<g id=\"edge3\" class=\"edge\">\n",
       "<title>1&#45;&gt;3</title>\n",
       "<path fill=\"none\" stroke=\"black\" d=\"M140.02,-86.8C132.97,-74.82 123.44,-58.62 115.46,-45.06\"/>\n",
       "<polygon fill=\"black\" stroke=\"black\" points=\"118.33,-43.02 110.24,-36.18 112.29,-46.57 118.33,-43.02\"/>\n",
       "<text text-anchor=\"middle\" x=\"137.14\" y=\"-57.8\" font-family=\"Times,serif\" font-size=\"14.00\">No</text>\n",
       "</g>\n",
       "<!-- 4 -->\n",
       "<g id=\"node5\" class=\"node\">\n",
       "<title>4</title>\n",
       "<polygon fill=\"none\" stroke=\"red\" points=\"241.14,-36 161.14,-36 161.14,0 241.14,0 241.14,-36\"/>\n",
       "<text text-anchor=\"middle\" x=\"201.14\" y=\"-14.3\" font-family=\"Times,serif\" font-size=\"14.00\">val = 0.019</text>\n",
       "</g>\n",
       "<!-- 1&#45;&gt;4 -->\n",
       "<g id=\"edge4\" class=\"edge\">\n",
       "<title>1&#45;&gt;4</title>\n",
       "<path fill=\"none\" stroke=\"black\" d=\"M160.46,-86.8C167.65,-74.82 177.37,-58.62 185.5,-45.06\"/>\n",
       "<polygon fill=\"black\" stroke=\"black\" points=\"188.69,-46.55 190.83,-36.18 182.69,-42.95 188.69,-46.55\"/>\n",
       "<text text-anchor=\"middle\" x=\"189.64\" y=\"-57.8\" font-family=\"Times,serif\" font-size=\"14.00\">Yes</text>\n",
       "</g>\n",
       "<!-- 5 -->\n",
       "<g id=\"node6\" class=\"node\">\n",
       "<title>5</title>\n",
       "<polygon fill=\"none\" stroke=\"red\" points=\"459.64,-36 374.64,-36 374.64,0 459.64,0 459.64,-36\"/>\n",
       "<text text-anchor=\"middle\" x=\"417.14\" y=\"-14.3\" font-family=\"Times,serif\" font-size=\"14.00\">val = &#45;0.055</text>\n",
       "</g>\n",
       "<!-- 2&#45;&gt;5 -->\n",
       "<g id=\"edge5\" class=\"edge\">\n",
       "<title>2&#45;&gt;5</title>\n",
       "<path fill=\"none\" stroke=\"black\" d=\"M457.82,-86.8C450.63,-74.82 440.91,-58.62 432.77,-45.06\"/>\n",
       "<polygon fill=\"black\" stroke=\"black\" points=\"435.59,-42.95 427.44,-36.18 429.59,-46.55 435.59,-42.95\"/>\n",
       "<text text-anchor=\"middle\" x=\"455.14\" y=\"-57.8\" font-family=\"Times,serif\" font-size=\"14.00\">No</text>\n",
       "</g>\n",
       "<!-- 6 -->\n",
       "<g id=\"node7\" class=\"node\">\n",
       "<title>6</title>\n",
       "<polygon fill=\"none\" stroke=\"red\" points=\"558.14,-36 478.14,-36 478.14,0 558.14,0 558.14,-36\"/>\n",
       "<text text-anchor=\"middle\" x=\"518.14\" y=\"-14.3\" font-family=\"Times,serif\" font-size=\"14.00\">val = 0.062</text>\n",
       "</g>\n",
       "<!-- 2&#45;&gt;6 -->\n",
       "<g id=\"edge6\" class=\"edge\">\n",
       "<title>2&#45;&gt;6</title>\n",
       "<path fill=\"none\" stroke=\"black\" d=\"M478.25,-86.8C485.3,-74.82 494.83,-58.62 502.81,-45.06\"/>\n",
       "<polygon fill=\"black\" stroke=\"black\" points=\"505.98,-46.57 508.03,-36.18 499.95,-43.02 505.98,-46.57\"/>\n",
       "<text text-anchor=\"middle\" x=\"505.64\" y=\"-57.8\" font-family=\"Times,serif\" font-size=\"14.00\">Yes</text>\n",
       "</g>\n",
       "</g>\n",
       "</svg>\n"
      ],
      "text/plain": [
       "<graphviz.dot.Digraph at 0x7ffc1e493c90>"
      ]
     },
     "execution_count": 142,
     "metadata": {},
     "output_type": "execute_result"
    }
   ],
   "source": [
    "# catboost tree model\n",
    "\n",
    "pool = Pool(X, y,  cat_features=categorical, feature_names=list(X.columns))\n",
    "model = CatBoostClassifier(\n",
    "    max_depth=2, verbose=False, max_ctr_complexity=1, iterations=2).fit(pool)\n",
    "\n",
    "model.plot_tree(\n",
    "    tree_idx=0,\n",
    "    pool=pool\n",
    ")"
   ]
  },
  {
   "cell_type": "markdown",
   "metadata": {},
   "source": [
    "# Choose Catboost as final Classification method\n",
    "- Highest OOS accuracy = 0.92\n",
    "- Highest AUC\n",
    "## Catboost uses Minimal Variance Sampling (MVS)\n",
    "- a weighted sampling version of Stochastic Gradient Boosting\n",
    "# Pros\n",
    "- Easy to apply in any computer\n",
    "- Easy to deal with the categorical variable\n",
    "- Fast speed\n",
    "# Cons\n",
    "- Difficult to interpret the categorical variable with numeric number on the \"leaf\"\n",
    "- Hard to graph"
   ]
  },
  {
   "cell_type": "code",
   "execution_count": 144,
   "metadata": {},
   "outputs": [
    {
     "name": "stdout",
     "output_type": "stream",
     "text": [
      "0.9295776690962333\n",
      "0.9244608800448764\n",
      "0.9279971260572146\n",
      "0.917829548519169\n",
      "0.9113071484634607\n",
      "Avg accuracy : 0.92156\n",
      "Avg AUC : 0.9222344744361909\n"
     ]
    }
   ],
   "source": [
    "k = 5\n",
    "kf = StratifiedKFold(n_splits=k, random_state=None)\n",
    "\n",
    "model = CatBoostClassifier()\n",
    "\n",
    "\n",
    "acc_score = []\n",
    "auc_score = []\n",
    " \n",
    "for train_index , test_index in kf.split(X,y):\n",
    "    \n",
    "    X_train , X_test = X.iloc[train_index,:],X.iloc[test_index,:]\n",
    "    y_train , y_test = y[train_index] , y[test_index]\n",
    "     \n",
    "    model.fit(X_train,y_train,\n",
    "              cat_features=categorical, \n",
    "              eval_set=(X_test, y_test), \n",
    "              use_best_model=True,\n",
    "              verbose=False)\n",
    "    pred_values = model.predict(X_test)\n",
    "     \n",
    "    acc = metrics.accuracy_score(pred_values,y_test)\n",
    "    acc_score.append(acc)\n",
    "    \n",
    "    auc = roc_auc_score(pred_values , y_test)\n",
    "    print(auc)\n",
    "    auc_score.append(auc)\n",
    "     \n",
    "avg_acc_score = sum(acc_score)/k\n",
    "avg_auc_score = sum(auc_score)/k\n",
    " \n",
    "\n",
    "print('Avg accuracy : {}'.format(avg_acc_score))\n",
    "\n",
    "print('Avg AUC : {}'.format(avg_auc_score))"
   ]
  },
  {
   "cell_type": "code",
   "execution_count": null,
   "metadata": {},
   "outputs": [],
   "source": []
  }
 ],
 "metadata": {
  "kernelspec": {
   "display_name": "Python 3",
   "language": "python",
   "name": "python3"
  },
  "language_info": {
   "codemirror_mode": {
    "name": "ipython",
    "version": 3
   },
   "file_extension": ".py",
   "mimetype": "text/x-python",
   "name": "python",
   "nbconvert_exporter": "python",
   "pygments_lexer": "ipython3",
   "version": "3.7.6"
  }
 },
 "nbformat": 4,
 "nbformat_minor": 4
}
